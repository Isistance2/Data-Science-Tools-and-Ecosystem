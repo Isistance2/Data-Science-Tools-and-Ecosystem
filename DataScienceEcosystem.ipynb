{
 "cells": [
  {
   "cell_type": "markdown",
   "id": "b1df898e",
   "metadata": {},
   "source": [
    "# Data Science Tools and Ecosystem \n",
    "\n"
   ]
  },
  {
   "cell_type": "markdown",
   "id": "15caf9be",
   "metadata": {},
   "source": [
    "\n",
    "## In this notebook, Data Science Tools and Ecosystem are summarized.\n"
   ]
  },
  {
   "cell_type": "markdown",
   "id": "d246b134",
   "metadata": {},
   "source": [
    "#### Some of the popular languages that Data Scientist use are:\n",
    "1. Python\n",
    "2. R\n",
    "3. Julia"
   ]
  },
  {
   "cell_type": "markdown",
   "id": "098f4704",
   "metadata": {},
   "source": [
    "#### Some of the commonly used libraries used by Data Scientist include:\n",
    "\n",
    "1. ggplot\n",
    "2. pandas\n",
    "3. TensorFlow"
   ]
  },
  {
   "cell_type": "markdown",
   "id": "bb333f92",
   "metadata": {},
   "source": [
    "## Data Science Tools:\n",
    "\n",
    "* Jupyter notebook\n",
    "* Rstudio\n",
    "* Vs Code"
   ]
  },
  {
   "cell_type": "markdown",
   "id": "601865e4",
   "metadata": {},
   "source": [
    "### Below are a few examples of evaluating expression in Python"
   ]
  },
  {
   "cell_type": "code",
   "execution_count": 3,
   "id": "b4596d29",
   "metadata": {},
   "outputs": [
    {
     "data": {
      "text/plain": [
       "17"
      ]
     },
     "execution_count": 3,
     "metadata": {},
     "output_type": "execute_result"
    }
   ],
   "source": [
    "# this is a simple aritjmetic expression to multiply then add integers\n",
    "(3*4)+5"
   ]
  },
  {
   "cell_type": "code",
   "execution_count": 4,
   "id": "b13f1ee8",
   "metadata": {},
   "outputs": [
    {
     "data": {
      "text/plain": [
       "3.3333333333333335"
      ]
     },
     "execution_count": 4,
     "metadata": {},
     "output_type": "execute_result"
    }
   ],
   "source": [
    "# This will convert 200 minutes to hours by diving 60\n",
    "\n",
    "minutes = 200\n",
    "conversion = minutes / 60\n",
    "conversion"
   ]
  },
  {
   "cell_type": "markdown",
   "id": "0c352e82",
   "metadata": {},
   "source": [
    "## In this notebook, Data sciece Tools and Ecosystem are summarized\n",
    "\n",
    "**Objectives:**\n",
    "* Create a Jupyter Notebook\n",
    "* List popular languages for Data Science\n",
    "* List Data Science Libraries\n",
    "* Create a code to evaluate expressions"
   ]
  },
  {
   "cell_type": "markdown",
   "id": "d967420b",
   "metadata": {},
   "source": [
    "## Author\n",
    "\n",
    "Joan Manuel Julian Santana\n"
   ]
  },
  {
   "cell_type": "code",
   "execution_count": null,
   "id": "13196ef1",
   "metadata": {},
   "outputs": [],
   "source": []
  }
 ],
 "metadata": {
  "kernelspec": {
   "display_name": "Python 3 (ipykernel)",
   "language": "python",
   "name": "python3"
  },
  "language_info": {
   "codemirror_mode": {
    "name": "ipython",
    "version": 3
   },
   "file_extension": ".py",
   "mimetype": "text/x-python",
   "name": "python",
   "nbconvert_exporter": "python",
   "pygments_lexer": "ipython3",
   "version": "3.11.3"
  }
 },
 "nbformat": 4,
 "nbformat_minor": 5
}
